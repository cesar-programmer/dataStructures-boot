{
 "cells": [
  {
   "cell_type": "code",
   "execution_count": 20,
   "id": "58e84296-7ab8-4dab-8031-b9cca9e75e1c",
   "metadata": {},
   "outputs": [
    {
     "name": "stdout",
     "output_type": "stream",
     "text": [
      "['l', 'e', 'a', 'f', 'a', 'R']\n",
      "['R', 'a', 'f', 'a', 'e', 'l']\n",
      "\n"
     ]
    }
   ],
   "source": [
    "# Simplified implementation o stack (relying on built-ins);\n",
    "\n",
    "class Stack:\n",
    "    def __init__(self):\n",
    "        self.items = []\n",
    "\n",
    "    def push(self, value):\n",
    "        self.items.append(value)\n",
    "\n",
    "    def pop(self):\n",
    "        return self.items.pop()\n",
    "\n",
    "    def size(self):\n",
    "         print(self.items)\n",
    "\n",
    "    def peek(self):\n",
    "        return self.items[len(self.items)-1]\n",
    "\n",
    "    def is_empty(self):\n",
    "        return self.items == []\n",
    "\n",
    "    def printStack(self):\n",
    "          print(self.items)\n",
    "\n",
    "def invertChar(string):\n",
    "    original_stack = Stack()\n",
    "    inverted_stack = Stack()\n",
    "\n",
    "    for char in string:\n",
    "        original_stack.push(char)\n",
    "\n",
    "    original_stack.printStack()\n",
    "    \n",
    "    inverted_string = ''\n",
    "    while not original_stack.is_empty():\n",
    "        #inverted_string += original_stack.pop()\n",
    "        inverted_stack.push(original_stack.pop())\n",
    "\n",
    "    inverted_stack.printStack()\n",
    "    \n",
    "    return inverted_string\n",
    "\n",
    "print(invertChar('leafaR'))"
   ]
  },
  {
   "cell_type": "markdown",
   "id": "1687e365-e295-4096-84c6-b110e2120d40",
   "metadata": {},
   "source": [
    "# Problem 2:\n",
    "Considering the reversal property Of Stacks,create a function that uses the `Stack` class above to invert a string\n",
    "```\n",
    "Examples:\n",
    "should return \" leafaR\"\n",
    "Should return \"ratS\"\n",
    "should return \"olleh\"\n",
    "```"
   ]
  },
  {
   "cell_type": "code",
   "execution_count": null,
   "id": "4657ef54-1bc8-4dcc-9d19-7974eafbeffe",
   "metadata": {},
   "outputs": [],
   "source": [
    "# From scratch implementation of stack\n",
    "class Stackll:\n",
    "    def __init__(self):\n",
    "        self.top = None\n",
    "    class __Node:\n",
    "        def __init__(self, data):\n",
    "            self.data = data\n",
    "            self.below = None\n",
    "            \n",
    "    def push(self, value):\n",
    "        new_node = self.__Node(value)\n",
    "        if self.top == None:\n",
    "            self.top = new_node\n",
    "        else:\n",
    "            old_top = self.top\n",
    "            self.top = new_node\n",
    "            self.top.below = old_top\n",
    "            \n",
    "    def pop(self):\n",
    "        if self.top:\n",
    "            datum = self.top.data\n",
    "            self.top = self.top.below\n",
    "            return datum\n",
    "        raise IndexError('Stack is empty')\n",
    "\n",
    "    #Nice to have methods\n",
    "    def peek(self):\n",
    "        pass\n",
    "\n",
    "    def size(self):\n",
    "        pass\n",
    "\n",
    "    def is_empty(self):\n",
    "        return self.top == None"
   ]
  }
 ],
 "metadata": {
  "kernelspec": {
   "display_name": "Python 3 (ipykernel)",
   "language": "python",
   "name": "python3"
  },
  "language_info": {
   "codemirror_mode": {
    "name": "ipython",
    "version": 3
   },
   "file_extension": ".py",
   "mimetype": "text/x-python",
   "name": "python",
   "nbconvert_exporter": "python",
   "pygments_lexer": "ipython3",
   "version": "3.8.10"
  }
 },
 "nbformat": 4,
 "nbformat_minor": 5
}
