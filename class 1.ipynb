{
 "cells": [
  {
   "cell_type": "code",
   "execution_count": 1,
   "id": "22b1d7df-6aa5-40c0-8321-0c0cd23ca094",
   "metadata": {},
   "outputs": [
    {
     "name": "stdout",
     "output_type": "stream",
     "text": [
      "h\n",
      "e\n",
      "l\n",
      "l\n",
      "o\n",
      " \n",
      "w\n",
      "o\n",
      "r\n",
      "l\n",
      "d\n"
     ]
    }
   ],
   "source": [
    "for char in 'hello world': \n",
    "    print(char)"
   ]
  },
  {
   "cell_type": "markdown",
   "id": "e27b09f9-eb32-4a93-89c7-b3f98ea9eeae",
   "metadata": {},
   "source": [
    "# problem 1\n",
    "\n",
    "## Anagram check\n",
    "Given two strings create a function that returns `True` if these are anagrams of each other, `False` otherwise.\n",
    "\n",
    "### Acceptance Critera\n",
    "Two strings are anagram o each other if all the criteria below are met:\n",
    "1. They must use the same letters the same amount of times\n",
    "2. They  must be of equal lengh.\n",
    "\n",
    "```\n",
    "Examples:\n",
    "anagram_check('earth', 'heart') returs true\n",
    "anagram_check('star', 'rats') returs true\n",
    "anagram_check('cars', 'scar') returs true\n",
    "\n",
    "```"
   ]
  },
  {
   "cell_type": "code",
   "execution_count": 3,
   "id": "97ac0cfe-bf7c-4514-8310-979b95f96dbf",
   "metadata": {},
   "outputs": [
    {
     "name": "stdout",
     "output_type": "stream",
     "text": [
      "True\n",
      "False\n",
      "False\n",
      "True\n",
      "True\n",
      "False\n"
     ]
    }
   ],
   "source": [
    "def count_word(word, counter):\n",
    "    for char in word:\n",
    "        if char != ' ':\n",
    "            counter += 1\n",
    "    return counter\n",
    "\n",
    "def anagram_check(word1, word2):\n",
    "    sentence1 = word1.lower()\n",
    "    sentence2 = word2.lower()\n",
    "    counter1 = 0\n",
    "    counter2 = 0\n",
    "    \n",
    "    count1 = count_word(sentence1, counter1)\n",
    "    count2 = count_word(sentence2, counter2)\n",
    "    if count1 == count2:\n",
    "        dict_1 = {}\n",
    "        dict_2 = {}\n",
    "        for char in sentence1:\n",
    "            if(char != ' '):\n",
    "                if char in dict_1:\n",
    "                    dict_1[char] += 1\n",
    "                else:\n",
    "                    dict_1[char] = 1\n",
    "\n",
    "        for char in sentence2:\n",
    "            if(char != ' '):\n",
    "                if char in dict_2:\n",
    "                    dict_2[char] += 1\n",
    "                else:\n",
    "                    dict_2[char] = 1\n",
    "        if dict_1 == dict_2:\n",
    "            return True\n",
    "        else:\n",
    "            return False\n",
    "    else:\n",
    "        return False\n",
    "\n",
    "print(anagram_check('Tom Marvolo Riddle', 'I am Lord Voldemort'))\n",
    "print(anagram_check('ABB', 'BAA'))\n",
    "print(anagram_check('A B B', 'B AA'))\n",
    "print(anagram_check('star', 'rats'))\n",
    "print(anagram_check('cars', 'scar'))\n",
    "print(sorted('ABB') == sorted('BAA'))"
   ]
  },
  {
   "cell_type": "markdown",
   "id": "5d0f67aa-c9fb-4c32-82e7-8f239f810aee",
   "metadata": {},
   "source": [
    "# Pseudocode for the anagram_check function\n",
    "```\n",
    "define the anagram_check function that receives the parameters str1 and str2:\n",
    " str1 = str1 without spaces\n",
    " str2 = str2 without spaces\n",
    " \n",
    " str1 = str1 lowercase\n",
    " str2 = lowercase str2\n",
    " \n",
    " If length(str1) is different from length(str2):\n",
    " returns False\n",
    " otherwise:\n",
    " dict_1 = new dictionary\n",
    " dict_2 = new dictionary\n",
    " \n",
    " for each letter in str1:\n",
    " if the letter at position 0 in str1 is in dict_1:\n",
    " adds 1 to the total number of times I have seen that letter.\n",
    " another way:\n",
    " creates a new entry in dict_1 with that letter and the value set to 1.\n",
    " \n",
    " for each letter in str2:\n",
    " if the letter at position 0 in str2 is in dict_2:\n",
    " adds 1 to the total number of times I have seen that letter.\n",
    " another way:\n",
    " creates a new entry in dict_2 with that letter and the value set to 1\n",
    " \n",
    "returns dict_1 equals dict_2\n",
    "\n",
    "```\n"
   ]
  },
  {
   "cell_type": "code",
   "execution_count": null,
   "id": "9c061fd5-c5b1-4d17-893f-3299a3ee7e79",
   "metadata": {},
   "outputs": [],
   "source": []
  }
 ],
 "metadata": {
  "kernelspec": {
   "display_name": "Python 3 (ipykernel)",
   "language": "python",
   "name": "python3"
  },
  "language_info": {
   "codemirror_mode": {
    "name": "ipython",
    "version": 3
   },
   "file_extension": ".py",
   "mimetype": "text/x-python",
   "name": "python",
   "nbconvert_exporter": "python",
   "pygments_lexer": "ipython3",
   "version": "3.8.10"
  }
 },
 "nbformat": 4,
 "nbformat_minor": 5
}
