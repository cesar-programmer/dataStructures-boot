{
 "cells": [
  {
   "cell_type": "code",
   "execution_count": 1,
   "id": "d274a00f-0e6f-4655-97bf-5a234e4757a0",
   "metadata": {},
   "outputs": [],
   "source": [
    "class Queue:\n",
    "    def __init__(self):\n",
    "        self.items = []\n",
    "        \n",
    "    def enqueue(self, item):\n",
    "        self.items.insert(0, item)\n",
    "                                                                                               \n",
    "    def dequeue(self):\n",
    "        return self.items.pop()\n",
    "        \n",
    "    def size(self):\n",
    "        return len(self.items)\n",
    "    \n",
    "    def peek(self):\n",
    "        return self.items[len(self.items)-1]\n",
    "    \n",
    "    def is_empty(self):\n",
    "        return self.items == []"
   ]
  },
  {
   "cell_type": "markdown",
   "id": "335482de-3b5c-4827-b353-fd467004dcd2",
   "metadata": {},
   "source": [
    "\n",
    "# Problem 4\n",
    "## Create a \"from scratch\" implementation of Queue, including , at a minimum \"enqueue\" and\" dequeue\" as its methods\n",
    "\n",
    "### your class should be name QueueII\n"
   ]
  },
  {
   "cell_type": "markdown",
   "id": "23c44ed2-b582-45db-86e5-7c2f43ee0848",
   "metadata": {},
   "source": [
    "define my class Node:\n",
    "define attribute data with initial value None\n",
    "define attribute next with initial value None\n",
    "\n",
    "define my class QueueII\n",
    "define attribute front with initial value None\n",
    "define attribute rear with initial value None\n",
    "\n",
    "define enqueue method with parameter \"value\":\n",
    "new_node = new instance of Node with \"data\" set to \"value\"\n",
    "if my queue is empty:\n",
    "    update self.front to point to new_node\n",
    "    update self.rear to point to new_node\n",
    "otherwise: # the queue is not empty\n",
    "    self.rear.next = new_node\n",
    "    self.rear = new_node\n",
    "\n",
    "define dequeue method:\n",
    "if the self.front reference is not pointing to None # this means there are nodes in the queue\n",
    "    datum = the data element stored at the front node\n",
    "    self.front = the next node in line\n",
    "    return datum\n",
    "otherwise:\n",
    "    display an error because the queue is empty\n"
   ]
  },
  {
   "cell_type": "code",
   "execution_count": 6,
   "id": "c966027c-7679-41b9-9bbc-ac9297f3154a",
   "metadata": {},
   "outputs": [
    {
     "name": "stdout",
     "output_type": "stream",
     "text": [
      "4\n"
     ]
    }
   ],
   "source": [
    "# From scratch implementation of QueueII\n",
    "class QueueII:\n",
    "    def __init__(self):\n",
    "        self.front = None\n",
    "        self.back = None\n",
    "\n",
    "    class __Node:\n",
    "        def __init__(self, data):\n",
    "            self.data = data\n",
    "            self.next = None\n",
    "\n",
    "    def enqueue(self, value):\n",
    "        new_node = self.__Node(value)\n",
    "        if self.back is None:\n",
    "            self.front = new_node \n",
    "            self.back = new_node \n",
    "        else:\n",
    "            self.back.next = new_node\n",
    "            self.back = new_node\n",
    "\n",
    "    def dequeue(self):\n",
    "        if self.front is not None:\n",
    "            datum = self.front.data\n",
    "            self.front = self.front.next\n",
    "            return datum\n",
    "        raise IndexError('Queue is empty')\n",
    "\n",
    "    def is_empty(self):\n",
    "        return self.front is None\n",
    "\n",
    "    def size(self):\n",
    "        count = 0\n",
    "        current_node = self.front\n",
    "        while current_node is not None:\n",
    "            count += 1\n",
    "            current_node = current_node.next\n",
    "        return count\n",
    "\n",
    "def test():\n",
    "    queue = QueueII()\n",
    "    queue.enqueue(2)\n",
    "    queue.enqueue(4)\n",
    "    queue.enqueue(4)\n",
    "    queue.enqueue(4)\n",
    "    print(queue.size())\n",
    "        \n",
    "test()"
   ]
  },
  {
   "cell_type": "markdown",
   "id": "380590fe-58dc-4a42-b0b4-626cad075607",
   "metadata": {},
   "source": [
    "# Recursive functions"
   ]
  },
  {
   "cell_type": "code",
   "execution_count": 9,
   "id": "89b733e3-5004-422c-9858-e1b486445eeb",
   "metadata": {},
   "outputs": [
    {
     "data": {
      "text/plain": [
       "3628800"
      ]
     },
     "execution_count": 9,
     "metadata": {},
     "output_type": "execute_result"
    }
   ],
   "source": [
    "# A recursive function is one that calls itself at least once within it's code \n",
    "\n",
    "# a very simple example\n",
    "#the factorial function\n",
    "\n",
    "def factorial(n):\n",
    "    if n == 0:\n",
    "        return 1\n",
    "    return n * factorial(n-1)\n",
    "factorial(10)"
   ]
  },
  {
   "cell_type": "code",
   "execution_count": null,
   "id": "42622ac8-d0d2-43f5-9bbc-cec2e3946943",
   "metadata": {},
   "outputs": [],
   "source": [
    "# Fibonacci function\n",
    "\n",
    "# F0 = 0; F1 = 1\n",
    "#Fn = Fn-1 + Fn-2\n",
    "\n",
    "#1, 1, 2, 3, 5, 8, 13, 21\n",
    "\n",
    "from functools import lru_cache\n",
    "@lru_cache\n",
    "\n",
    "def fib(n):\n",
    "    if n < 2:\n",
    "        return n\n",
    "    return fib(n-1) + fib (n-2)"
   ]
  }
 ],
 "metadata": {
  "kernelspec": {
   "display_name": "Python 3 (ipykernel)",
   "language": "python",
   "name": "python3"
  },
  "language_info": {
   "codemirror_mode": {
    "name": "ipython",
    "version": 3
   },
   "file_extension": ".py",
   "mimetype": "text/x-python",
   "name": "python",
   "nbconvert_exporter": "python",
   "pygments_lexer": "ipython3",
   "version": "3.8.10"
  }
 },
 "nbformat": 4,
 "nbformat_minor": 5
}
